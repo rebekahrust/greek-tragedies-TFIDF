{
 "cells": [
  {
   "cell_type": "code",
   "execution_count": null,
   "metadata": {
    "collapsed": true,
    "pycharm": {
     "name": "#%%\n"
    }
   },
   "outputs": [],
   "source": [
    "#$ pyvenv venv\n",
    "#$ source activate venv\n",
    "#$ pip install cltk\n",
    "#$ pip install -U scikit-learn\n",
    "#$ pip install -U textblob\n",
    "#$ pip install numpy\n",
    "#$ pip install bleach\n",
    "#$ python -m pip install -U pip setuptools\n",
    "#$ python -m pip install matplotlib\n",
    "\n",
    "\n",
    "#once this cell is fired a cltk_data directory should be stored\n",
    "from cltk.corpus.utils.importer import CorpusImporter\n",
    "corpus_importer = CorpusImporter('greek')\n",
    "corpus_importer.import_corpus('greek_text_perseus')"
   ]
  },
  {
   "cell_type": "code",
   "execution_count": null,
   "outputs": [],
   "source": [
    "root = '/Users/wimsey/cltk_data'\n",
    "perseus_root = root + '/greek/text/greek_text_perseus/' # Folder where files reside to read in\n",
    "tmp_root = root + '/tmp/' # Folder where converted files are written to\n",
    "\n",
    "theCorpus = {'aeschylus': ['aesch.ag_gk.xml', 'aesch.eum_gk.xml', 'aesch.lib_gk.xml', 'aesch.pers_gk.xml', 'aesch.seven_gk.xml', 'aesch.supp_gk.xml', 'aesch.pb_gk.xml'],\n",
    "            'sophocles': ['soph.aj_gk.xml', 'soph.ant_gk.xml', 'soph.oc_gk.xml', 'soph.ot_gk.xml', 'soph.phil_gk.xml', 'soph.trach_gk.xml', 'soph.el_gk.xml'],\n",
    "                'euripides': ['eur.ba_gk.xml', 'eur.el_gk.xml', 'eur.hec_gk.xml', 'eur.her_gk.xml','eur.ia_gk.xml', 'eur.ion_gk.xml', 'eur.it_gk.xml', 'eur.phoen_gk.xml', 'eur.rh_gk.xml', 'eur.supp_gk.xml', 'eur.tro_gk.xml', 'eur.orest_gk.xml'],\n",
    "                'aristophanes': ['aristoph.ach_gk.xml', 'aristoph.birds_gk.xml', 'aristoph.cl_gk.xml', 'aristoph.eccl_gk.xml', 'aristoph.frogs_gk.xml', 'aristoph.kn_gk.xml', 'aristoph.lys_gk.xml', 'aristoph.peace_gk.xml', 'aristoph.pl_gk.xml', 'aristoph.thes_gk.xml', 'aristoph.wasps_gk.xml']}"
   ],
   "metadata": {
    "collapsed": false,
    "pycharm": {
     "name": "#%%\n"
    }
   }
  },
  {
   "cell_type": "code",
   "execution_count": null,
   "outputs": [],
   "source": [
    "# set global variable to 0\n",
    "line_number = 0\n",
    "starting_line_number = 0\n",
    "\n",
    "# Generate Authors and their works from directory structure\n",
    "#theCorpus = create_dictionary_of_works(perseus_root)\n",
    "\n",
    "# Iterate through corpus and convert and generate chunks\n",
    "for author, filenames in theCorpus.items():\n",
    "    # create bag to put all authors words in\n",
    "    authors_words = \"\"\n",
    "\n",
    "    print(\"Start processing author: {}\".format(author))\n",
    "    for filename in filenames:\n",
    "        fullpath_filename = os.path.join(perseus_root + str(author) + '/opensource', str(filename))\n",
    "        print(\"\\tProcessing:\\t{}\".format(fullpath_filename))\n",
    "\n",
    "        # Initialize variables\n",
    "        # set global variable to 0\n",
    "        line_number = 0\n",
    "        starting_line_number = 0\n",
    "\n",
    "        # Read Greek Play xml and create DOM\n",
    "        dom = parse(fullpath_filename)\n",
    "\n",
    "        # original filename of play\n",
    "        playname = os.path.splitext(filename)[0]\n",
    "\n",
    "        # Extract speakers and lines and convert text to unicode\n",
    "        converted_play = parseGreekPlay(dom)\n",
    "\n",
    "        # Write converted play out\n",
    "        plays_words = write_converted_play(author, playname, tmp_root, converted_play)\n",
    "\n",
    "        # Add this plays words to the authors bag\n",
    "        authors_words += plays_words + \" \"\n",
    "\n",
    "        # Write plays Vocabulary words\n",
    "        plays_bow_write = tmp_root + str(author) + \"/\" + str(playname) + \"_vocab.txt\"\n",
    "        with open(plays_bow_write, 'w') as plays_bow_write:\n",
    "            plays_bow_write.write(plays_words)\n",
    "            print(\"Wrote {}'s Vocabulary for {}.\".format(author, playname))\n",
    "\n",
    "        print(\"Finished Processing {}:\\t{}\".format(author, filename))\n",
    "\n",
    "    # Write Authors Vocabulary words\n",
    "    authors_bow_write = tmp_root + str(author) + \"/\" + str(author) + \"_vocab.txt\"\n",
    "    with open(authors_bow_write, 'w') as authors_bow_write:\n",
    "        authors_bow_write.write(authors_words)\n",
    "        print(\"Wrote {} Vocabulary.\".format(author))\n",
    "\n",
    "    print(\"Finished processing author: {}\".format(author))\n",
    "\n",
    "print(\"Program ended\")"
   ],
   "metadata": {
    "collapsed": false,
    "pycharm": {
     "name": "#%%\n"
    }
   }
  },
  {
   "cell_type": "code",
   "execution_count": null,
   "outputs": [],
   "source": [
    "root = '/Users/wimsey/cltk_data'\n",
    "perseus_root = root + '/greek/text/greek_text_perseus/' # Folder where files reside to read in\n",
    "tmp_root = root + '/tmp/' # Folder where converted files are written to\n",
    "\n",
    "aeschylus=tmp_root + 'aeschylus/aeschylus_author_bag_of_words.txt'\n",
    "sophocles=tmp_root + 'sophocles/sophocles_author_bag_of_words.txt'\n",
    "euripides=tmp_root + 'euripides/euripides_author_bag_of_words.txt'\n",
    "aristophanes=tmp_root + 'aristophanes/aristophanes_author_bag_of_words.txt'\n",
    "\n",
    "\n",
    "aesch_ag=tmp_root + 'aeschylus/aesch.ag_gk_play_bag_of_words.txt'\n",
    "aesch_eum=tmp_root + 'aeschylus/aesch.eum_gk_play_bag_of_words.txt'\n",
    "aesch_lib=tmp_root + 'aeschylus/aesch.lib_gk_play_bag_of_words.txt'\n",
    "aesch_pb=tmp_root + 'aeschylus/aesch.pb_gk_play_bag_of_words.txt'\n",
    "aesch_pers=tmp_root + 'aeschylus/aesch.pers_gk_play_bag_of_words.txt'\n",
    "aesch_seven=tmp_root + 'aeschylus/aesch.seven_gk_play_bag_of_words.txt'\n",
    "aesch_supp=tmp_root + 'aeschylus/aesch.supp_gk_play_bag_of_words.txt'\n",
    "\n",
    "\n",
    "\n",
    "soph_aj=tmp_root + 'sophocles/soph.aj_gk_play_bag_of_words.txt'\n",
    "soph_ant=tmp_root + 'sophocles/soph.ant_gk_play_bag_of_words.txt'\n",
    "soph_el=tmp_root + 'sophocles/soph.el_gk_play_bag_of_words.txt'\n",
    "soph_oc=tmp_root + 'sophocles/soph.oc_gk_play_bag_of_words.txt'\n",
    "soph_ot=tmp_root + 'sophocles/soph.ot_gk_play_bag_of_words.txt'\n",
    "soph_phil=tmp_root + 'sophocles/soph.phil_gk_play_bag_of_words.txt'\n",
    "soph_trach=tmp_root + 'sophocles/soph.trach_gk_play_bag_of_words.txt'\n",
    "\n",
    "\n",
    "\n",
    "eur_ba=tmp_root + 'euripides/eur.ba_gk_play_bag_of_words.txt'\n",
    "eur_el=tmp_root + 'euripides/eur.el_gk_play_bag_of_words.txt'\n",
    "eur_hec=tmp_root + 'euripides/eur.hec_gk_play_bag_of_words.txt'\n",
    "eur_her=tmp_root + 'euripides/eur.her_gk_play_bag_of_words.txt'\n",
    "eur_ia=tmp_root + 'euripides/eur.ia_gk_play_bag_of_words.txt'\n",
    "eur_ion=tmp_root + 'euripides/eur.ion_gk_play_bag_of_words.txt'\n",
    "eur_it=tmp_root + 'euripides/eur.it_gk_play_bag_of_words.txt'\n",
    "eur_orest=tmp_root + 'euripides/eur.orest_gk_play_bag_of_words.txt'\n",
    "eur_phoen=tmp_root + 'euripides/eur.phoen_gk_play_bag_of_words.txt'\n",
    "eur_rh=tmp_root + 'euripides/eur.rh_gk_play_bag_of_words.txt'\n",
    "eur_supp=tmp_root + 'euripides/eur.supp_gk_play_bag_of_words.txt'\n",
    "eur_tro=tmp_root + 'euripides/eur.tro_gk_play_bag_of_words.txt'\n",
    "\n",
    "\n",
    "\n",
    "aristoph_ach=tmp_root + 'aristophanes/aristoph.ach_gk_play_bag_of_words.txt'\n",
    "aristoph_birds=tmp_root + 'aristophanes/aristoph.birds_gk_play_bag_of_words.txt'\n",
    "aristoph_cl=tmp_root + 'aristophanes/aristoph.cl_gk_play_bag_of_words.txt'\n",
    "aristoph_eccl=tmp_root + 'aristophanes/aristoph.eccl_gk_play_bag_of_words.txt'\n",
    "aristoph_frogs=tmp_root + 'aristophanes/aristoph.frogs_gk_play_bag_of_words.txt'\n",
    "aristoph_kn=tmp_root + 'aristophanes/aristoph.kn_gk_play_bag_of_words.txt'\n",
    "aristoph_lys=tmp_root + 'aristophanes/aristoph.lys_gk_play_bag_of_words.txt'\n",
    "aristoph_wealth=tmp_root + 'aristophanes/aristoph.pl_gk_play_bag_of_words.txt'\n",
    "aristoph_peace=tmp_root + 'aristophanes/aristoph.peace_gk_play_bag_of_words.txt'\n",
    "aristoph_thesmo=tmp_root + 'aristophanes/aristoph.thes_gk_play_bag_of_words.txt'\n",
    "aristoph_wasps=tmp_root + 'aristophanes/aristoph.wasps_gk_play_bag_of_words.txt'"
   ],
   "metadata": {
    "collapsed": false,
    "pycharm": {
     "name": "#%%\n"
    }
   }
  },
  {
   "cell_type": "code",
   "execution_count": null,
   "outputs": [],
   "source": [],
   "metadata": {
    "collapsed": false,
    "pycharm": {
     "name": "#%%\n"
    }
   }
  }
 ],
 "metadata": {
  "kernelspec": {
   "display_name": "Python 3",
   "language": "python",
   "name": "python3"
  },
  "language_info": {
   "codemirror_mode": {
    "name": "ipython",
    "version": 2
   },
   "file_extension": ".py",
   "mimetype": "text/x-python",
   "name": "python",
   "nbconvert_exporter": "python",
   "pygments_lexer": "ipython2",
   "version": "2.7.6"
  }
 },
 "nbformat": 4,
 "nbformat_minor": 0
}